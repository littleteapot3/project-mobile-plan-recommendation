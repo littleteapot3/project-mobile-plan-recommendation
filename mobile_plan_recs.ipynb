{
 "cells": [
  {
   "cell_type": "markdown",
   "metadata": {},
   "source": [
    "# Project Summary\n",
    "\n",
    "Megaline aims to recommend an optimal mobile plan (Smart or Ultra) based on user behavior. I trained and compared three classification models (Logistic Regression, Decision Tree, Random Forest) using usage data (calls, texts, internet).\n",
    "\n",
    "- Best model: Random Forest, with test accuracy of 0.83\n",
    "- Key features: mb_used, minutes\n",
    "- Final recommendation: Deploy the Random Forest model to support plan selection for future users.\n"
   ]
  },
  {
   "cell_type": "code",
   "execution_count": 1,
   "metadata": {},
   "outputs": [],
   "source": [
    "import pandas as pd\n",
    "import seaborn as sns\n",
    "import matplotlib.pyplot as plt\n",
    "\n",
    "\n",
    "from sklearn.model_selection import train_test_split\n",
    "import joblib\n",
    "\n",
    "from sklearn.tree import DecisionTreeClassifier\n",
    "from sklearn.metrics import accuracy_score\n",
    "from sklearn.ensemble import RandomForestClassifier\n",
    "from sklearn.linear_model import LogisticRegression\n",
    "\n",
    "from sklearn.metrics import confusion_matrix, ConfusionMatrixDisplay"
   ]
  },
  {
   "cell_type": "markdown",
   "metadata": {},
   "source": [
    "# Data Loading\n",
    "\n",
    "- **Data description**: Every observation in the dataset contains monthly behavior information about one user. The information given is as follows: \n",
    "\n",
    "    - **сalls** — number of calls,\n",
    "    - **minutes** — total call duration in minutes,\n",
    "    - **messages** — number of text messages,\n",
    "    - **mb_used** — Internet traffic used in MB,\n",
    "    - **is_ultra** — plan for the current month (Ultra - 1, Smart - 0)."
   ]
  },
  {
   "cell_type": "code",
   "execution_count": 2,
   "metadata": {},
   "outputs": [
    {
     "name": "stdout",
     "output_type": "stream",
     "text": [
      "File loaded from the server.\n"
     ]
    }
   ],
   "source": [
    "# Code cell for preprocessing tasks (e.g., filling missing values, removing duplicates)\n",
    "\n",
    "# Loading the dataset\n",
    "\n",
    "try:\n",
    "    # Try to load the file from the local computer\n",
    "    df = pd.read_csv('/datasets/users_behavior.csv')\n",
    "\n",
    "    print(\"File loaded from local computer.\")\n",
    "    \n",
    "except FileNotFoundError:\n",
    "    # If the file is not found locally, load it from the server\n",
    "    df = pd.read_csv('https://practicum-content.s3.us-west-1.amazonaws.com/datasets/users_behavior.csv')\n",
    "    print(\"File loaded from the server.\")\n",
    "    "
   ]
  },
  {
   "cell_type": "markdown",
   "metadata": {},
   "source": [
    "# Inspect the Data\n",
    "\n",
    "- Check for missing values and duplicates, and display the dataset shape and the first few rows."
   ]
  },
  {
   "cell_type": "code",
   "execution_count": 3,
   "metadata": {},
   "outputs": [
    {
     "data": {
      "text/plain": [
       "(3214, 5)"
      ]
     },
     "execution_count": 3,
     "metadata": {},
     "output_type": "execute_result"
    }
   ],
   "source": [
    "df.shape # Dataset size"
   ]
  },
  {
   "cell_type": "markdown",
   "metadata": {},
   "source": [
    "Our dataset is 3,214 rows and 5 columns. "
   ]
  },
  {
   "cell_type": "code",
   "execution_count": 4,
   "metadata": {
    "scrolled": true
   },
   "outputs": [
    {
     "data": {
      "text/plain": [
       "calls       0\n",
       "minutes     0\n",
       "messages    0\n",
       "mb_used     0\n",
       "is_ultra    0\n",
       "dtype: int64"
      ]
     },
     "execution_count": 4,
     "metadata": {},
     "output_type": "execute_result"
    }
   ],
   "source": [
    "# Checking for missing values\n",
    "df.isnull().sum()"
   ]
  },
  {
   "cell_type": "markdown",
   "metadata": {},
   "source": [
    "Our data isn't missing any values."
   ]
  },
  {
   "cell_type": "code",
   "execution_count": 5,
   "metadata": {},
   "outputs": [
    {
     "data": {
      "text/plain": [
       "0"
      ]
     },
     "execution_count": 5,
     "metadata": {},
     "output_type": "execute_result"
    }
   ],
   "source": [
    "df.duplicated().sum() #Check for duplicates"
   ]
  },
  {
   "cell_type": "markdown",
   "metadata": {},
   "source": [
    "Our data has no duplicates."
   ]
  },
  {
   "cell_type": "code",
   "execution_count": 6,
   "metadata": {},
   "outputs": [
    {
     "name": "stdout",
     "output_type": "stream",
     "text": [
      "<class 'pandas.core.frame.DataFrame'>\n",
      "RangeIndex: 3214 entries, 0 to 3213\n",
      "Data columns (total 5 columns):\n",
      " #   Column    Non-Null Count  Dtype  \n",
      "---  ------    --------------  -----  \n",
      " 0   calls     3214 non-null   float64\n",
      " 1   minutes   3214 non-null   float64\n",
      " 2   messages  3214 non-null   float64\n",
      " 3   mb_used   3214 non-null   float64\n",
      " 4   is_ultra  3214 non-null   int64  \n",
      "dtypes: float64(4), int64(1)\n",
      "memory usage: 125.7 KB\n"
     ]
    }
   ],
   "source": [
    "df.info() # Data types and non-null counts"
   ]
  },
  {
   "cell_type": "code",
   "execution_count": 7,
   "metadata": {
    "scrolled": true
   },
   "outputs": [
    {
     "data": {
      "text/html": [
       "<div>\n",
       "<style scoped>\n",
       "    .dataframe tbody tr th:only-of-type {\n",
       "        vertical-align: middle;\n",
       "    }\n",
       "\n",
       "    .dataframe tbody tr th {\n",
       "        vertical-align: top;\n",
       "    }\n",
       "\n",
       "    .dataframe thead th {\n",
       "        text-align: right;\n",
       "    }\n",
       "</style>\n",
       "<table border=\"1\" class=\"dataframe\">\n",
       "  <thead>\n",
       "    <tr style=\"text-align: right;\">\n",
       "      <th></th>\n",
       "      <th>calls</th>\n",
       "      <th>minutes</th>\n",
       "      <th>messages</th>\n",
       "      <th>mb_used</th>\n",
       "      <th>is_ultra</th>\n",
       "    </tr>\n",
       "  </thead>\n",
       "  <tbody>\n",
       "    <tr>\n",
       "      <th>0</th>\n",
       "      <td>40.0</td>\n",
       "      <td>311.90</td>\n",
       "      <td>83.0</td>\n",
       "      <td>19915.42</td>\n",
       "      <td>0</td>\n",
       "    </tr>\n",
       "    <tr>\n",
       "      <th>1</th>\n",
       "      <td>85.0</td>\n",
       "      <td>516.75</td>\n",
       "      <td>56.0</td>\n",
       "      <td>22696.96</td>\n",
       "      <td>0</td>\n",
       "    </tr>\n",
       "    <tr>\n",
       "      <th>2</th>\n",
       "      <td>77.0</td>\n",
       "      <td>467.66</td>\n",
       "      <td>86.0</td>\n",
       "      <td>21060.45</td>\n",
       "      <td>0</td>\n",
       "    </tr>\n",
       "    <tr>\n",
       "      <th>3</th>\n",
       "      <td>106.0</td>\n",
       "      <td>745.53</td>\n",
       "      <td>81.0</td>\n",
       "      <td>8437.39</td>\n",
       "      <td>1</td>\n",
       "    </tr>\n",
       "    <tr>\n",
       "      <th>4</th>\n",
       "      <td>66.0</td>\n",
       "      <td>418.74</td>\n",
       "      <td>1.0</td>\n",
       "      <td>14502.75</td>\n",
       "      <td>0</td>\n",
       "    </tr>\n",
       "    <tr>\n",
       "      <th>5</th>\n",
       "      <td>58.0</td>\n",
       "      <td>344.56</td>\n",
       "      <td>21.0</td>\n",
       "      <td>15823.37</td>\n",
       "      <td>0</td>\n",
       "    </tr>\n",
       "    <tr>\n",
       "      <th>6</th>\n",
       "      <td>57.0</td>\n",
       "      <td>431.64</td>\n",
       "      <td>20.0</td>\n",
       "      <td>3738.90</td>\n",
       "      <td>1</td>\n",
       "    </tr>\n",
       "    <tr>\n",
       "      <th>7</th>\n",
       "      <td>15.0</td>\n",
       "      <td>132.40</td>\n",
       "      <td>6.0</td>\n",
       "      <td>21911.60</td>\n",
       "      <td>0</td>\n",
       "    </tr>\n",
       "    <tr>\n",
       "      <th>8</th>\n",
       "      <td>7.0</td>\n",
       "      <td>43.39</td>\n",
       "      <td>3.0</td>\n",
       "      <td>2538.67</td>\n",
       "      <td>1</td>\n",
       "    </tr>\n",
       "    <tr>\n",
       "      <th>9</th>\n",
       "      <td>90.0</td>\n",
       "      <td>665.41</td>\n",
       "      <td>38.0</td>\n",
       "      <td>17358.61</td>\n",
       "      <td>0</td>\n",
       "    </tr>\n",
       "  </tbody>\n",
       "</table>\n",
       "</div>"
      ],
      "text/plain": [
       "   calls  minutes  messages   mb_used  is_ultra\n",
       "0   40.0   311.90      83.0  19915.42         0\n",
       "1   85.0   516.75      56.0  22696.96         0\n",
       "2   77.0   467.66      86.0  21060.45         0\n",
       "3  106.0   745.53      81.0   8437.39         1\n",
       "4   66.0   418.74       1.0  14502.75         0\n",
       "5   58.0   344.56      21.0  15823.37         0\n",
       "6   57.0   431.64      20.0   3738.90         1\n",
       "7   15.0   132.40       6.0  21911.60         0\n",
       "8    7.0    43.39       3.0   2538.67         1\n",
       "9   90.0   665.41      38.0  17358.61         0"
      ]
     },
     "execution_count": 7,
     "metadata": {},
     "output_type": "execute_result"
    }
   ],
   "source": [
    "# Preview of the data\n",
    "df.head(10)"
   ]
  },
  {
   "cell_type": "markdown",
   "metadata": {},
   "source": [
    "# Exploratory Data Analysis"
   ]
  },
  {
   "cell_type": "code",
   "execution_count": 8,
   "metadata": {},
   "outputs": [
    {
     "name": "stderr",
     "output_type": "stream",
     "text": [
      "/Users/lrw/anaconda3/lib/python3.11/site-packages/seaborn/_oldcore.py:1119: FutureWarning: use_inf_as_na option is deprecated and will be removed in a future version. Convert inf values to NaN before operating instead.\n",
      "  with pd.option_context('mode.use_inf_as_na', True):\n",
      "/Users/lrw/anaconda3/lib/python3.11/site-packages/seaborn/_oldcore.py:1075: FutureWarning: When grouping with a length-1 list-like, you will need to pass a length-1 tuple to get_group in a future version of pandas. Pass `(name,)` instead of `name` to silence this warning.\n",
      "  data_subset = grouped_data.get_group(pd_key)\n",
      "/Users/lrw/anaconda3/lib/python3.11/site-packages/seaborn/_oldcore.py:1075: FutureWarning: When grouping with a length-1 list-like, you will need to pass a length-1 tuple to get_group in a future version of pandas. Pass `(name,)` instead of `name` to silence this warning.\n",
      "  data_subset = grouped_data.get_group(pd_key)\n"
     ]
    },
    {
     "data": {
      "image/png": "[encoded data removed]",
      "text/plain": [
       "<Figure size 1000x600 with 1 Axes>"
      ]
     },
     "metadata": {},
     "output_type": "display_data"
    }
   ],
   "source": [
    "# Histogram of usage by plan\n",
    "\n",
    "\n",
    "# Set up the plot style\n",
    "sns.set(style=\"whitegrid\")\n",
    "\n",
    "# Plot histogram\n",
    "plt.figure(figsize=(10, 6))\n",
    "sns.histplot(data=df, x='mb_used', hue='is_ultra', bins=30, kde=True, palette='Set2')\n",
    "plt.title('Internet Usage by Plan Type (Smart vs Ultra)')\n",
    "plt.xlabel('MB Used')\n",
    "plt.ylabel('Count')\n",
    "plt.legend(title='Plan', labels=['Smart (0)', 'Ultra (1)'])\n",
    "plt.show()"
   ]
  },
  {
   "cell_type": "markdown",
   "metadata": {},
   "source": [
    "**Internet Usage Patterns:**\n",
    "Ultra plan users appear to use significantly more internet than Smart plan users. This suggests mb_used may help differentiate between the two plans."
   ]
  },
  {
   "cell_type": "code",
   "execution_count": 9,
   "metadata": {
    "scrolled": true
   },
   "outputs": [
    {
     "data": {
      "image/png": "[encoded data removed]",
      "text/plain": [
       "<Figure size 800x600 with 1 Axes>"
      ]
     },
     "metadata": {},
     "output_type": "display_data"
    }
   ],
   "source": [
    "# Boxplot of call minutes by plan type\n",
    "plt.figure(figsize=(8, 6))\n",
    "sns.boxplot(data=df, x='is_ultra', y='minutes', palette='Set2')\n",
    "plt.title('Call Duration by Plan Type')\n",
    "plt.xlabel('Plan (0 = Smart, 1 = Ultra)')\n",
    "plt.ylabel('Total Call Minutes')\n",
    "plt.xticks([0, 1], ['Smart', 'Ultra'])\n",
    "plt.show()"
   ]
  },
  {
   "cell_type": "markdown",
   "metadata": {},
   "source": [
    "**Call Duration Patterns:**\n",
    "Ultra users tend to spend more time on calls. However, this overlaps with the calls feature, which is highly correlated."
   ]
  },
  {
   "cell_type": "code",
   "execution_count": 10,
   "metadata": {},
   "outputs": [
    {
     "data": {
      "image/png": "[encoded data removed]",
      "text/plain": [
       "<Figure size 800x600 with 2 Axes>"
      ]
     },
     "metadata": {},
     "output_type": "display_data"
    }
   ],
   "source": [
    "# Heatmap\n",
    "\n",
    "# Compute the correlation matrix\n",
    "corr_matrix = df.corr(numeric_only=True)\n",
    "\n",
    "# Set up the heatmap\n",
    "plt.figure(figsize=(8, 6))\n",
    "sns.heatmap(corr_matrix, annot=True, cmap='coolwarm', fmt=\".2f\", square=True)\n",
    "plt.title('Correlation Heatmap')\n",
    "plt.show()"
   ]
  },
  {
   "cell_type": "markdown",
   "metadata": {},
   "source": [
    "**Feature Correlation:**\n",
    "- mb_used shows the strongest correlation with plan type.\n",
    "- calls and minutes are nearly redundant—dropping one may simplify the model without hurting performance."
   ]
  },
  {
   "cell_type": "markdown",
   "metadata": {},
   "source": [
    "To better understand how user behavior differs across Smart and Ultra plans, we explored key usage features visually and statistically:\n",
    "\n",
    "- **Internet Usage**\n",
    "Ultra plan users tend to use significantly more internet data (mb_used), with a noticeable right-skew in their distribution. This feature is likely a strong predictor of plan type.\n",
    "\n",
    "- **Call Behavior**\n",
    "Ultra users also tend to spend more time on calls (minutes) compared to Smart users. However, this feature is nearly perfectly correlated with the number of calls (calls), suggesting redundancy.\n",
    "\n",
    "- **Feature Correlation**\n",
    "The heatmap confirms that calls and minutes are almost identical in behavior (correlation = 0.98). Simplifying the model by dropping one of these features may improve interpretability.\n",
    "The strongest feature correlation with the target (is_ultra) comes from mb_used (0.29), followed by minutes (0.21) and calls (0.21).\n",
    "\n",
    "These findings support our choice to include features like mb_used and potentially simplify by removing one of the call-related features.\n",
    "\n"
   ]
  },
  {
   "cell_type": "markdown",
   "metadata": {},
   "source": [
    "# Data Splitting\n",
    "\n",
    "- Split the data into training, validation, and test sets using `train_test_split`.\n"
   ]
  },
  {
   "cell_type": "code",
   "execution_count": 11,
   "metadata": {},
   "outputs": [],
   "source": [
    "# Splitting the data into 80% training/validation and 20% testing\n",
    "df_train, test_set = train_test_split(df, test_size=0.2, random_state=54321)"
   ]
  },
  {
   "cell_type": "code",
   "execution_count": 12,
   "metadata": {},
   "outputs": [],
   "source": [
    "# Further splitting the training set into training/validation and validation\n",
    "train_set, valid_set = train_test_split(df_train, test_size=0.25, random_state=42)  # 0.25 * 0.8 = 0.2"
   ]
  },
  {
   "cell_type": "code",
   "execution_count": 13,
   "metadata": {
    "scrolled": false
   },
   "outputs": [
    {
     "name": "stdout",
     "output_type": "stream",
     "text": [
      "Training set: 1928 samples\n",
      "Validation set: 643 samples\n",
      "Test set: 643 samples\n"
     ]
    }
   ],
   "source": [
    "# Check the sizes of each set\n",
    "print(f\"Training set: {len(train_set)} samples\")\n",
    "print(f\"Validation set: {len(valid_set)} samples\")\n",
    "print(f\"Test set: {len(test_set)} samples\")"
   ]
  },
  {
   "cell_type": "markdown",
   "metadata": {},
   "source": [
    "# Feature and Target Definition\n",
    "\n",
    "- **Target Variable:** `is_ultra` (0 or 1)\n",
    "- **Features:** All other columns."
   ]
  },
  {
   "cell_type": "code",
   "execution_count": 14,
   "metadata": {},
   "outputs": [],
   "source": [
    "target = df['is_ultra']\n",
    "features = df.drop(['is_ultra'], axis=1)"
   ]
  },
  {
   "cell_type": "markdown",
   "metadata": {},
   "source": [
    "# Model Evaluation\n",
    "\n",
    "When investigating the quality of different models by changing hyperparameters, the goal is to find the best combination of model and hyperparameter combination that gives the best performance. \n",
    "\n",
    "As we're looking to solve a classification task, I'll use the following models:\n",
    "\n",
    "- **Logistic Regression**\n",
    "- **Decision Tree**\n",
    "- **Random Forest**\n"
   ]
  },
  {
   "cell_type": "markdown",
   "metadata": {},
   "source": [
    "## Logistic Regression Model"
   ]
  },
  {
   "cell_type": "code",
   "execution_count": 15,
   "metadata": {},
   "outputs": [
    {
     "name": "stdout",
     "output_type": "stream",
     "text": [
      "Accuracy of the logistic regression model on the training set: 0.7199\n",
      "Accuracy of the logistic regression model on the validation set: 0.7138\n"
     ]
    }
   ],
   "source": [
    "# Using the same definitions from earlier for the features and target for training and validation\n",
    "features_train = train_set.drop('is_ultra', axis=1)\n",
    "target_train = train_set['is_ultra']\n",
    "\n",
    "features_valid = valid_set.drop('is_ultra', axis=1)\n",
    "target_valid = valid_set['is_ultra']\n",
    "\n",
    "\n",
    "# Initialize the model\n",
    "lr_model = LogisticRegression(random_state=54321, solver='liblinear')\n",
    "\n",
    "# Train the model\n",
    "lr_model.fit(features_train, target_train)\n",
    "\n",
    "# Validate the model\n",
    "lr_score_train = lr_model.score(features_train, target_train) \n",
    "lr_score_valid = lr_model.score(features_valid, target_valid)\n",
    "\n",
    "print(\"Accuracy of the logistic regression model on the training set:\", round(lr_score_train, 4))\n",
    "print(\"Accuracy of the logistic regression model on the validation set:\", round(lr_score_valid, 4))      \n",
    "    "
   ]
  },
  {
   "cell_type": "markdown",
   "metadata": {},
   "source": [
    "## Decision Tree Classification Model"
   ]
  },
  {
   "cell_type": "code",
   "execution_count": 16,
   "metadata": {
    "scrolled": true
   },
   "outputs": [
    {
     "name": "stdout",
     "output_type": "stream",
     "text": [
      "Max Depth: 3, Validation Accuracy: 0.7978\n",
      "Max Depth: 5, Validation Accuracy: 0.7900\n",
      "Max Depth: 10, Validation Accuracy: 0.7947\n",
      "Max Depth: 15, Validation Accuracy: 0.7605\n",
      "Max Depth: None, Validation Accuracy: 0.7434\n"
     ]
    }
   ],
   "source": [
    "features_train = train_set.drop('is_ultra', axis=1)\n",
    "target_train = train_set['is_ultra']\n",
    "\n",
    "features_valid = valid_set.drop('is_ultra', axis=1)\n",
    "target_valid = valid_set['is_ultra']\n",
    "\n",
    "# List of max_depth values to try\n",
    "max_depth_options = [3, 5, 10, 15, None]\n",
    "\n",
    "# Loop over each value in max_depth_options\n",
    "for depth in max_depth_options:\n",
    "    # Initialize the model with the current max_depth\n",
    "    tree_model = DecisionTreeClassifier(max_depth=depth, random_state=12345)\n",
    "    \n",
    "    # Train the model\n",
    "    tree_model.fit(features_train, target_train)\n",
    "    \n",
    "    # Make predictions\n",
    "    features_predict = tree_model.predict(features_valid)\n",
    "    \n",
    "    # Calculate accuracy\n",
    "    tree_accuracy = accuracy_score(target_valid, features_predict)\n",
    "    \n",
    "    # Print the results\n",
    "    print(f\"Max Depth: {depth}, Validation Accuracy: {tree_accuracy:.4f}\")"
   ]
  },
  {
   "cell_type": "code",
   "execution_count": 17,
   "metadata": {
    "scrolled": true
   },
   "outputs": [
    {
     "name": "stdout",
     "output_type": "stream",
     "text": [
      "Min Samples Split: 2, Validation Accuracy: 0.7434\n",
      "Min Samples Split: 10, Validation Accuracy: 0.7449\n",
      "Min Samples Split: 20, Validation Accuracy: 0.7667\n"
     ]
    }
   ],
   "source": [
    "# List of min_samples_split to try\n",
    "min_samples_split = [2, 10, 20]\n",
    "\n",
    "# Loop over each value in min_samples_split\n",
    "for split in min_samples_split:\n",
    "    # Initialize the model \n",
    "    tree_model_split = DecisionTreeClassifier(min_samples_split=split, random_state=12345)\n",
    "    \n",
    "    # Train the model\n",
    "    tree_model_split.fit(features_train, target_train)\n",
    "    \n",
    "    # Make predictions\n",
    "    features_predict = tree_model_split.predict(features_valid)\n",
    "    \n",
    "    # Calculate accuracy\n",
    "    tree_accuracy = accuracy_score(target_valid, features_predict)\n",
    "    \n",
    "    # Print the results\n",
    "    print(f\"Min Samples Split: {split}, Validation Accuracy: {tree_accuracy:.4f}\")"
   ]
  },
  {
   "cell_type": "code",
   "execution_count": 18,
   "metadata": {
    "scrolled": false
   },
   "outputs": [
    {
     "name": "stdout",
     "output_type": "stream",
     "text": [
      "Min Samples Leaf: 1, Validation Accuracy: 0.7434\n",
      "Min Samples Leaf: 5, Validation Accuracy: 0.7434\n",
      "Min Samples Leaf: 10, Validation Accuracy: 0.7621\n"
     ]
    }
   ],
   "source": [
    "# List of min_samples_leaf\n",
    "min_samples_leaf = [1, 5, 10]\n",
    "\n",
    "# Loop over each value in min_samples_leaf\n",
    "for leaf in min_samples_leaf:\n",
    "    # Initialize the model \n",
    "    tree_model_leaf = DecisionTreeClassifier(min_samples_leaf=leaf, random_state=12345)\n",
    "    \n",
    "    # Train the model\n",
    "    tree_model_leaf.fit(features_train, target_train)\n",
    "    \n",
    "    # Make predictions\n",
    "    features_predict = tree_model_leaf.predict(features_valid)\n",
    "    \n",
    "    # Calculate accuracy\n",
    "    tree_accuracy = accuracy_score(target_valid, features_predict)\n",
    "    \n",
    "    # Print the results\n",
    "    print(f\"Min Samples Leaf: {leaf}, Validation Accuracy: {tree_accuracy:.4f}\")"
   ]
  },
  {
   "cell_type": "markdown",
   "metadata": {},
   "source": [
    "2. After running the experiments, the best hyperparameters were identified as follows:\n",
    "\n",
    "- **Best Max Depth:** 3\n",
    "- **Best Min Samples Split:** 20\n",
    "- **Best Min Samples Leaf:** 10\n"
   ]
  },
  {
   "cell_type": "code",
   "execution_count": 19,
   "metadata": {},
   "outputs": [
    {
     "name": "stdout",
     "output_type": "stream",
     "text": [
      "Accuracy of the logistic regression model on the training set: 0.8065\n",
      "Accuracy of the logistic regression model on the validation set: 0.7978\n"
     ]
    }
   ],
   "source": [
    "# Best values for the hyperparameters\n",
    "best_max_depth = 3\n",
    "best_min_samples_split = 20\n",
    "best_min_samples_leaf = 10\n",
    "\n",
    "# Retrain the model with the best hyperparameters\n",
    "final_model_dt = DecisionTreeClassifier(max_depth=best_max_depth, min_samples_split = best_min_samples_split, \n",
    "                                     min_samples_leaf = best_min_samples_leaf, random_state=12345)\n",
    "\n",
    "final_model_dt.fit(features_train, target_train)\n",
    "\n",
    "# Test the accuracy of the final_model_dt\n",
    "dt_score_train = final_model_dt.score(features_train, target_train) \n",
    "dt_score_valid = final_model_dt.score(features_valid, target_valid)\n",
    "\n",
    "print(\"Accuracy of the logistic regression model on the training set:\", round(dt_score_train, 4))\n",
    "print(\"Accuracy of the logistic regression model on the validation set:\", round(dt_score_valid, 4))"
   ]
  },
  {
   "cell_type": "markdown",
   "metadata": {},
   "source": [
    "## Random Forest Classification Model"
   ]
  },
  {
   "cell_type": "code",
   "execution_count": 20,
   "metadata": {},
   "outputs": [
    {
     "name": "stdout",
     "output_type": "stream",
     "text": [
      "n_estimators: 10, Validation Accuracy: 0.7760\n",
      "n_estimators: 50, Validation Accuracy: 0.8040\n",
      "n_estimators: 100, Validation Accuracy: 0.7916\n",
      "n_estimators: 200, Validation Accuracy: 0.7978\n"
     ]
    }
   ],
   "source": [
    "# Using the same definitions from earlier for the features and target for training and validation\n",
    "features_train = train_set.drop('is_ultra', axis=1)\n",
    "target_train = train_set['is_ultra']\n",
    "\n",
    "features_valid = valid_set.drop('is_ultra', axis=1)\n",
    "target_valid = valid_set['is_ultra']\n",
    "\n",
    "# Try different n_estimator values for Random Forest\n",
    "n_estimators_options = [10, 50, 100, 200] \n",
    "\n",
    "for n in n_estimators_options:\n",
    "    rf_model = RandomForestClassifier(n_estimators=n, random_state=12345)\n",
    "    rf_model.fit(features_train, target_train)\n",
    "    \n",
    "    # Make predictions\n",
    "    rf_predictions = rf_model.predict(features_valid)\n",
    "    \n",
    "    # Calculate accuracy\n",
    "    rf_accuracy = accuracy_score(target_valid, rf_predictions)\n",
    "    \n",
    "    print(f\"n_estimators: {n}, Validation Accuracy: {rf_accuracy:.4f}\")"
   ]
  },
  {
   "cell_type": "markdown",
   "metadata": {},
   "source": [
    "2. Record the best hyperparameters and validate accuracy.\n",
    "\n",
    "After running the experiments, the best hyperparameters were identified as follows:\n",
    "\n",
    "- **Best number of estimators:** `n_estimators = 50`\n"
   ]
  },
  {
   "cell_type": "code",
   "execution_count": 21,
   "metadata": {
    "scrolled": false
   },
   "outputs": [
    {
     "data": {
      "text/html": [
       "<style>#sk-container-id-1 {\n",
       "  /* Definition of color scheme common for light and dark mode */\n",
       "  --sklearn-color-text: black;\n",
       "  --sklearn-color-line: gray;\n",
       "  /* Definition of color scheme for unfitted estimators */\n",
       "  --sklearn-color-unfitted-level-0: #fff5e6;\n",
       "  --sklearn-color-unfitted-level-1: #f6e4d2;\n",
       "  --sklearn-color-unfitted-level-2: #ffe0b3;\n",
       "  --sklearn-color-unfitted-level-3: chocolate;\n",
       "  /* Definition of color scheme for fitted estimators */\n",
       "  --sklearn-color-fitted-level-0: #f0f8ff;\n",
       "  --sklearn-color-fitted-level-1: #d4ebff;\n",
       "  --sklearn-color-fitted-level-2: #b3dbfd;\n",
       "  --sklearn-color-fitted-level-3: cornflowerblue;\n",
       "\n",
       "  /* Specific color for light theme */\n",
       "  --sklearn-color-text-on-default-background: var(--sg-text-color, var(--theme-code-foreground, var(--jp-content-font-color1, black)));\n",
       "  --sklearn-color-background: var(--sg-background-color, var(--theme-background, var(--jp-layout-color0, white)));\n",
       "  --sklearn-color-border-box: var(--sg-text-color, var(--theme-code-foreground, var(--jp-content-font-color1, black)));\n",
       "  --sklearn-color-icon: #696969;\n",
       "\n",
       "  @media (prefers-color-scheme: dark) {\n",
       "    /* Redefinition of color scheme for dark theme */\n",
       "    --sklearn-color-text-on-default-background: var(--sg-text-color, var(--theme-code-foreground, var(--jp-content-font-color1, white)));\n",
       "    --sklearn-color-background: var(--sg-background-color, var(--theme-background, var(--jp-layout-color0, #111)));\n",
       "    --sklearn-color-border-box: var(--sg-text-color, var(--theme-code-foreground, var(--jp-content-font-color1, white)));\n",
       "    --sklearn-color-icon: #878787;\n",
       "  }\n",
       "}\n",
       "\n",
       "#sk-container-id-1 {\n",
       "  color: var(--sklearn-color-text);\n",
       "}\n",
       "\n",
       "#sk-container-id-1 pre {\n",
       "  padding: 0;\n",
       "}\n",
       "\n",
       "#sk-container-id-1 input.sk-hidden--visually {\n",
       "  border: 0;\n",
       "  clip: rect(1px 1px 1px 1px);\n",
       "  clip: rect(1px, 1px, 1px, 1px);\n",
       "  height: 1px;\n",
       "  margin: -1px;\n",
       "  overflow: hidden;\n",
       "  padding: 0;\n",
       "  position: absolute;\n",
       "  width: 1px;\n",
       "}\n",
       "\n",
       "#sk-container-id-1 div.sk-dashed-wrapped {\n",
       "  border: 1px dashed var(--sklearn-color-line);\n",
       "  margin: 0 0.4em 0.5em 0.4em;\n",
       "  box-sizing: border-box;\n",
       "  padding-bottom: 0.4em;\n",
       "  background-color: var(--sklearn-color-background);\n",
       "}\n",
       "\n",
       "#sk-container-id-1 div.sk-container {\n",
       "  /* jupyter's `normalize.less` sets `[hidden] { display: none; }`\n",
       "     but bootstrap.min.css set `[hidden] { display: none !important; }`\n",
       "     so we also need the `!important` here to be able to override the\n",
       "     default hidden behavior on the sphinx rendered scikit-learn.org.\n",
       "     See: https://github.com/scikit-learn/scikit-learn/issues/21755 */\n",
       "  display: inline-block !important;\n",
       "  position: relative;\n",
       "}\n",
       "\n",
       "#sk-container-id-1 div.sk-text-repr-fallback {\n",
       "  display: none;\n",
       "}\n",
       "\n",
       "div.sk-parallel-item,\n",
       "div.sk-serial,\n",
       "div.sk-item {\n",
       "  /* draw centered vertical line to link estimators */\n",
       "  background-image: linear-gradient(var(--sklearn-color-text-on-default-background), var(--sklearn-color-text-on-default-background));\n",
       "  background-size: 2px 100%;\n",
       "  background-repeat: no-repeat;\n",
       "  background-position: center center;\n",
       "}\n",
       "\n",
       "/* Parallel-specific style estimator block */\n",
       "\n",
       "#sk-container-id-1 div.sk-parallel-item::after {\n",
       "  content: \"\";\n",
       "  width: 100%;\n",
       "  border-bottom: 2px solid var(--sklearn-color-text-on-default-background);\n",
       "  flex-grow: 1;\n",
       "}\n",
       "\n",
       "#sk-container-id-1 div.sk-parallel {\n",
       "  display: flex;\n",
       "  align-items: stretch;\n",
       "  justify-content: center;\n",
       "  background-color: var(--sklearn-color-background);\n",
       "  position: relative;\n",
       "}\n",
       "\n",
       "#sk-container-id-1 div.sk-parallel-item {\n",
       "  display: flex;\n",
       "  flex-direction: column;\n",
       "}\n",
       "\n",
       "#sk-container-id-1 div.sk-parallel-item:first-child::after {\n",
       "  align-self: flex-end;\n",
       "  width: 50%;\n",
       "}\n",
       "\n",
       "#sk-container-id-1 div.sk-parallel-item:last-child::after {\n",
       "  align-self: flex-start;\n",
       "  width: 50%;\n",
       "}\n",
       "\n",
       "#sk-container-id-1 div.sk-parallel-item:only-child::after {\n",
       "  width: 0;\n",
       "}\n",
       "\n",
       "/* Serial-specific style estimator block */\n",
       "\n",
       "#sk-container-id-1 div.sk-serial {\n",
       "  display: flex;\n",
       "  flex-direction: column;\n",
       "  align-items: center;\n",
       "  background-color: var(--sklearn-color-background);\n",
       "  padding-right: 1em;\n",
       "  padding-left: 1em;\n",
       "}\n",
       "\n",
       "\n",
       "/* Toggleable style: style used for estimator/Pipeline/ColumnTransformer box that is\n",
       "clickable and can be expanded/collapsed.\n",
       "- Pipeline and ColumnTransformer use this feature and define the default style\n",
       "- Estimators will overwrite some part of the style using the `sk-estimator` class\n",
       "*/\n",
       "\n",
       "/* Pipeline and ColumnTransformer style (default) */\n",
       "\n",
       "#sk-container-id-1 div.sk-toggleable {\n",
       "  /* Default theme specific background. It is overwritten whether we have a\n",
       "  specific estimator or a Pipeline/ColumnTransformer */\n",
       "  background-color: var(--sklearn-color-background);\n",
       "}\n",
       "\n",
       "/* Toggleable label */\n",
       "#sk-container-id-1 label.sk-toggleable__label {\n",
       "  cursor: pointer;\n",
       "  display: block;\n",
       "  width: 100%;\n",
       "  margin-bottom: 0;\n",
       "  padding: 0.5em;\n",
       "  box-sizing: border-box;\n",
       "  text-align: center;\n",
       "}\n",
       "\n",
       "#sk-container-id-1 label.sk-toggleable__label-arrow:before {\n",
       "  /* Arrow on the left of the label */\n",
       "  content: \"▸\";\n",
       "  float: left;\n",
       "  margin-right: 0.25em;\n",
       "  color: var(--sklearn-color-icon);\n",
       "}\n",
       "\n",
       "#sk-container-id-1 label.sk-toggleable__label-arrow:hover:before {\n",
       "  color: var(--sklearn-color-text);\n",
       "}\n",
       "\n",
       "/* Toggleable content - dropdown */\n",
       "\n",
       "#sk-container-id-1 div.sk-toggleable__content {\n",
       "  max-height: 0;\n",
       "  max-width: 0;\n",
       "  overflow: hidden;\n",
       "  text-align: left;\n",
       "  /* unfitted */\n",
       "  background-color: var(--sklearn-color-unfitted-level-0);\n",
       "}\n",
       "\n",
       "#sk-container-id-1 div.sk-toggleable__content.fitted {\n",
       "  /* fitted */\n",
       "  background-color: var(--sklearn-color-fitted-level-0);\n",
       "}\n",
       "\n",
       "#sk-container-id-1 div.sk-toggleable__content pre {\n",
       "  margin: 0.2em;\n",
       "  border-radius: 0.25em;\n",
       "  color: var(--sklearn-color-text);\n",
       "  /* unfitted */\n",
       "  background-color: var(--sklearn-color-unfitted-level-0);\n",
       "}\n",
       "\n",
       "#sk-container-id-1 div.sk-toggleable__content.fitted pre {\n",
       "  /* unfitted */\n",
       "  background-color: var(--sklearn-color-fitted-level-0);\n",
       "}\n",
       "\n",
       "#sk-container-id-1 input.sk-toggleable__control:checked~div.sk-toggleable__content {\n",
       "  /* Expand drop-down */\n",
       "  max-height: 200px;\n",
       "  max-width: 100%;\n",
       "  overflow: auto;\n",
       "}\n",
       "\n",
       "#sk-container-id-1 input.sk-toggleable__control:checked~label.sk-toggleable__label-arrow:before {\n",
       "  content: \"▾\";\n",
       "}\n",
       "\n",
       "/* Pipeline/ColumnTransformer-specific style */\n",
       "\n",
       "#sk-container-id-1 div.sk-label input.sk-toggleable__control:checked~label.sk-toggleable__label {\n",
       "  color: var(--sklearn-color-text);\n",
       "  background-color: var(--sklearn-color-unfitted-level-2);\n",
       "}\n",
       "\n",
       "#sk-container-id-1 div.sk-label.fitted input.sk-toggleable__control:checked~label.sk-toggleable__label {\n",
       "  background-color: var(--sklearn-color-fitted-level-2);\n",
       "}\n",
       "\n",
       "/* Estimator-specific style */\n",
       "\n",
       "/* Colorize estimator box */\n",
       "#sk-container-id-1 div.sk-estimator input.sk-toggleable__control:checked~label.sk-toggleable__label {\n",
       "  /* unfitted */\n",
       "  background-color: var(--sklearn-color-unfitted-level-2);\n",
       "}\n",
       "\n",
       "#sk-container-id-1 div.sk-estimator.fitted input.sk-toggleable__control:checked~label.sk-toggleable__label {\n",
       "  /* fitted */\n",
       "  background-color: var(--sklearn-color-fitted-level-2);\n",
       "}\n",
       "\n",
       "#sk-container-id-1 div.sk-label label.sk-toggleable__label,\n",
       "#sk-container-id-1 div.sk-label label {\n",
       "  /* The background is the default theme color */\n",
       "  color: var(--sklearn-color-text-on-default-background);\n",
       "}\n",
       "\n",
       "/* On hover, darken the color of the background */\n",
       "#sk-container-id-1 div.sk-label:hover label.sk-toggleable__label {\n",
       "  color: var(--sklearn-color-text);\n",
       "  background-color: var(--sklearn-color-unfitted-level-2);\n",
       "}\n",
       "\n",
       "/* Label box, darken color on hover, fitted */\n",
       "#sk-container-id-1 div.sk-label.fitted:hover label.sk-toggleable__label.fitted {\n",
       "  color: var(--sklearn-color-text);\n",
       "  background-color: var(--sklearn-color-fitted-level-2);\n",
       "}\n",
       "\n",
       "/* Estimator label */\n",
       "\n",
       "#sk-container-id-1 div.sk-label label {\n",
       "  font-family: monospace;\n",
       "  font-weight: bold;\n",
       "  display: inline-block;\n",
       "  line-height: 1.2em;\n",
       "}\n",
       "\n",
       "#sk-container-id-1 div.sk-label-container {\n",
       "  text-align: center;\n",
       "}\n",
       "\n",
       "/* Estimator-specific */\n",
       "#sk-container-id-1 div.sk-estimator {\n",
       "  font-family: monospace;\n",
       "  border: 1px dotted var(--sklearn-color-border-box);\n",
       "  border-radius: 0.25em;\n",
       "  box-sizing: border-box;\n",
       "  margin-bottom: 0.5em;\n",
       "  /* unfitted */\n",
       "  background-color: var(--sklearn-color-unfitted-level-0);\n",
       "}\n",
       "\n",
       "#sk-container-id-1 div.sk-estimator.fitted {\n",
       "  /* fitted */\n",
       "  background-color: var(--sklearn-color-fitted-level-0);\n",
       "}\n",
       "\n",
       "/* on hover */\n",
       "#sk-container-id-1 div.sk-estimator:hover {\n",
       "  /* unfitted */\n",
       "  background-color: var(--sklearn-color-unfitted-level-2);\n",
       "}\n",
       "\n",
       "#sk-container-id-1 div.sk-estimator.fitted:hover {\n",
       "  /* fitted */\n",
       "  background-color: var(--sklearn-color-fitted-level-2);\n",
       "}\n",
       "\n",
       "/* Specification for estimator info (e.g. \"i\" and \"?\") */\n",
       "\n",
       "/* Common style for \"i\" and \"?\" */\n",
       "\n",
       ".sk-estimator-doc-link,\n",
       "a:link.sk-estimator-doc-link,\n",
       "a:visited.sk-estimator-doc-link {\n",
       "  float: right;\n",
       "  font-size: smaller;\n",
       "  line-height: 1em;\n",
       "  font-family: monospace;\n",
       "  background-color: var(--sklearn-color-background);\n",
       "  border-radius: 1em;\n",
       "  height: 1em;\n",
       "  width: 1em;\n",
       "  text-decoration: none !important;\n",
       "  margin-left: 1ex;\n",
       "  /* unfitted */\n",
       "  border: var(--sklearn-color-unfitted-level-1) 1pt solid;\n",
       "  color: var(--sklearn-color-unfitted-level-1);\n",
       "}\n",
       "\n",
       ".sk-estimator-doc-link.fitted,\n",
       "a:link.sk-estimator-doc-link.fitted,\n",
       "a:visited.sk-estimator-doc-link.fitted {\n",
       "  /* fitted */\n",
       "  border: var(--sklearn-color-fitted-level-1) 1pt solid;\n",
       "  color: var(--sklearn-color-fitted-level-1);\n",
       "}\n",
       "\n",
       "/* On hover */\n",
       "div.sk-estimator:hover .sk-estimator-doc-link:hover,\n",
       ".sk-estimator-doc-link:hover,\n",
       "div.sk-label-container:hover .sk-estimator-doc-link:hover,\n",
       ".sk-estimator-doc-link:hover {\n",
       "  /* unfitted */\n",
       "  background-color: var(--sklearn-color-unfitted-level-3);\n",
       "  color: var(--sklearn-color-background);\n",
       "  text-decoration: none;\n",
       "}\n",
       "\n",
       "div.sk-estimator.fitted:hover .sk-estimator-doc-link.fitted:hover,\n",
       ".sk-estimator-doc-link.fitted:hover,\n",
       "div.sk-label-container:hover .sk-estimator-doc-link.fitted:hover,\n",
       ".sk-estimator-doc-link.fitted:hover {\n",
       "  /* fitted */\n",
       "  background-color: var(--sklearn-color-fitted-level-3);\n",
       "  color: var(--sklearn-color-background);\n",
       "  text-decoration: none;\n",
       "}\n",
       "\n",
       "/* Span, style for the box shown on hovering the info icon */\n",
       ".sk-estimator-doc-link span {\n",
       "  display: none;\n",
       "  z-index: 9999;\n",
       "  position: relative;\n",
       "  font-weight: normal;\n",
       "  right: .2ex;\n",
       "  padding: .5ex;\n",
       "  margin: .5ex;\n",
       "  width: min-content;\n",
       "  min-width: 20ex;\n",
       "  max-width: 50ex;\n",
       "  color: var(--sklearn-color-text);\n",
       "  box-shadow: 2pt 2pt 4pt #999;\n",
       "  /* unfitted */\n",
       "  background: var(--sklearn-color-unfitted-level-0);\n",
       "  border: .5pt solid var(--sklearn-color-unfitted-level-3);\n",
       "}\n",
       "\n",
       ".sk-estimator-doc-link.fitted span {\n",
       "  /* fitted */\n",
       "  background: var(--sklearn-color-fitted-level-0);\n",
       "  border: var(--sklearn-color-fitted-level-3);\n",
       "}\n",
       "\n",
       ".sk-estimator-doc-link:hover span {\n",
       "  display: block;\n",
       "}\n",
       "\n",
       "/* \"?\"-specific style due to the `<a>` HTML tag */\n",
       "\n",
       "#sk-container-id-1 a.estimator_doc_link {\n",
       "  float: right;\n",
       "  font-size: 1rem;\n",
       "  line-height: 1em;\n",
       "  font-family: monospace;\n",
       "  background-color: var(--sklearn-color-background);\n",
       "  border-radius: 1rem;\n",
       "  height: 1rem;\n",
       "  width: 1rem;\n",
       "  text-decoration: none;\n",
       "  /* unfitted */\n",
       "  color: var(--sklearn-color-unfitted-level-1);\n",
       "  border: var(--sklearn-color-unfitted-level-1) 1pt solid;\n",
       "}\n",
       "\n",
       "#sk-container-id-1 a.estimator_doc_link.fitted {\n",
       "  /* fitted */\n",
       "  border: var(--sklearn-color-fitted-level-1) 1pt solid;\n",
       "  color: var(--sklearn-color-fitted-level-1);\n",
       "}\n",
       "\n",
       "/* On hover */\n",
       "#sk-container-id-1 a.estimator_doc_link:hover {\n",
       "  /* unfitted */\n",
       "  background-color: var(--sklearn-color-unfitted-level-3);\n",
       "  color: var(--sklearn-color-background);\n",
       "  text-decoration: none;\n",
       "}\n",
       "\n",
       "#sk-container-id-1 a.estimator_doc_link.fitted:hover {\n",
       "  /* fitted */\n",
       "  background-color: var(--sklearn-color-fitted-level-3);\n",
       "}\n",
       "</style><div id=\"sk-container-id-1\" class=\"sk-top-container\"><div class=\"sk-text-repr-fallback\"><pre>RandomForestClassifier(n_estimators=50, random_state=12345)</pre><b>In a Jupyter environment, please rerun this cell to show the HTML representation or trust the notebook. <br />On GitHub, the HTML representation is unable to render, please try loading this page with nbviewer.org.</b></div><div class=\"sk-container\" hidden><div class=\"sk-item\"><div class=\"sk-estimator fitted sk-toggleable\"><input class=\"sk-toggleable__control sk-hidden--visually\" id=\"sk-estimator-id-1\" type=\"checkbox\" checked><label for=\"sk-estimator-id-1\" class=\"sk-toggleable__label fitted sk-toggleable__label-arrow fitted\">&nbsp;&nbsp;RandomForestClassifier<a class=\"sk-estimator-doc-link fitted\" rel=\"noreferrer\" target=\"_blank\" href=\"https://scikit-learn.org/1.5/modules/generated/sklearn.ensemble.RandomForestClassifier.html\">?<span>Documentation for RandomForestClassifier</span></a><span class=\"sk-estimator-doc-link fitted\">i<span>Fitted</span></span></label><div class=\"sk-toggleable__content fitted\"><pre>RandomForestClassifier(n_estimators=50, random_state=12345)</pre></div> </div></div></div></div>"
      ],
      "text/plain": [
       "RandomForestClassifier(n_estimators=50, random_state=12345)"
      ]
     },
     "execution_count": 21,
     "metadata": {},
     "output_type": "execute_result"
    }
   ],
   "source": [
    "# Select the best n_estimators (50) and retrain\n",
    "best_rf_model = RandomForestClassifier(n_estimators=50, random_state=12345)\n",
    "best_rf_model.fit(features_train, target_train)"
   ]
  },
  {
   "cell_type": "markdown",
   "metadata": {},
   "source": [
    "# Validation\n",
    "\n"
   ]
  },
  {
   "cell_type": "markdown",
   "metadata": {},
   "source": [
    "## Confusion Matrix\n",
    "\n",
    "We'll generate a confusion matrix for each model. This information could be used from the testing calculate additional performance metrics."
   ]
  },
  {
   "cell_type": "code",
   "execution_count": 22,
   "metadata": {
    "scrolled": true
   },
   "outputs": [
    {
     "data": {
      "text/plain": [
       "<sklearn.metrics._plot.confusion_matrix.ConfusionMatrixDisplay at 0x15baead10>"
      ]
     },
     "execution_count": 22,
     "metadata": {},
     "output_type": "execute_result"
    },
    {
     "data": {
      "image/png": "[encoded data removed]",
      "text/plain": [
       "<Figure size 640x480 with 2 Axes>"
      ]
     },
     "metadata": {},
     "output_type": "display_data"
    },
    {
     "data": {
      "image/png": "[encoded data removed]",
      "text/plain": [
       "<Figure size 640x480 with 2 Axes>"
      ]
     },
     "metadata": {},
     "output_type": "display_data"
    },
    {
     "data": {
      "image/png": "[encoded data removed]",
      "text/plain": [
       "<Figure size 640x480 with 2 Axes>"
      ]
     },
     "metadata": {},
     "output_type": "display_data"
    }
   ],
   "source": [
    "# Confusion Matrix for the Decision Tree model\n",
    "dt_pred = final_model_dt.predict(features_valid)\n",
    "cm_dt = confusion_matrix(target_valid, dt_pred)\n",
    "ConfusionMatrixDisplay(cm_dt).plot()\n",
    "\n",
    "\n",
    "# Confusion Matrix for the Random Forest model\n",
    "rt_pred = best_rf_model.predict(features_valid)\n",
    "cm_rt = confusion_matrix(target_valid, rt_pred)\n",
    "ConfusionMatrixDisplay(cm_rt).plot()\n",
    "\n",
    "\n",
    "\n",
    "# Confusion Matrix for the Logistic Regression model\n",
    "lr_pred = lr_model.predict(features_valid)\n",
    "cm_lr = confusion_matrix(target_valid, lr_pred)\n",
    "ConfusionMatrixDisplay(cm_lr).plot()\n"
   ]
  },
  {
   "cell_type": "markdown",
   "metadata": {},
   "source": [
    "## Summary of Models\n",
    "\n",
    "The Random Forest model is recommended due to its highest accuracy."
   ]
  },
  {
   "cell_type": "code",
   "execution_count": 23,
   "metadata": {
    "scrolled": true
   },
   "outputs": [
    {
     "data": {
      "text/html": [
       "<div>\n",
       "<style scoped>\n",
       "    .dataframe tbody tr th:only-of-type {\n",
       "        vertical-align: middle;\n",
       "    }\n",
       "\n",
       "    .dataframe tbody tr th {\n",
       "        vertical-align: top;\n",
       "    }\n",
       "\n",
       "    .dataframe thead th {\n",
       "        text-align: right;\n",
       "    }\n",
       "</style>\n",
       "<table border=\"1\" class=\"dataframe\">\n",
       "  <thead>\n",
       "    <tr style=\"text-align: right;\">\n",
       "      <th></th>\n",
       "      <th>Model</th>\n",
       "      <th>Validation Accuracy</th>\n",
       "    </tr>\n",
       "  </thead>\n",
       "  <tbody>\n",
       "    <tr>\n",
       "      <th>2</th>\n",
       "      <td>Random Forest</td>\n",
       "      <td>0.84</td>\n",
       "    </tr>\n",
       "    <tr>\n",
       "      <th>0</th>\n",
       "      <td>Logistic Regression</td>\n",
       "      <td>0.74</td>\n",
       "    </tr>\n",
       "    <tr>\n",
       "      <th>1</th>\n",
       "      <td>Decision Tree</td>\n",
       "      <td>0.72</td>\n",
       "    </tr>\n",
       "  </tbody>\n",
       "</table>\n",
       "</div>"
      ],
      "text/plain": [
       "                 Model  Validation Accuracy\n",
       "2        Random Forest                 0.84\n",
       "0  Logistic Regression                 0.74\n",
       "1        Decision Tree                 0.72"
      ]
     },
     "execution_count": 23,
     "metadata": {},
     "output_type": "execute_result"
    }
   ],
   "source": [
    "model_names = ['Logistic Regression', 'Decision Tree', 'Random Forest']\n",
    "val_scores = [0.74, 0.72, 0.84]\n",
    "\n",
    "# Create a dataframe\n",
    "model_comparison = pd.DataFrame({\n",
    "    'Model': model_names,\n",
    "    'Validation Accuracy': val_scores\n",
    "})\n",
    "\n",
    "# Display the table\n",
    "model_comparison.sort_values(by='Validation Accuracy', ascending=False)"
   ]
  },
  {
   "cell_type": "markdown",
   "metadata": {},
   "source": [
    "# Testing\n",
    "\n",
    "Evaluate the selected model on the test set."
   ]
  },
  {
   "cell_type": "code",
   "execution_count": 24,
   "metadata": {
    "scrolled": true
   },
   "outputs": [
    {
     "name": "stdout",
     "output_type": "stream",
     "text": [
      "Random Forest Test Accuracy: 0.776\n"
     ]
    }
   ],
   "source": [
    "# Test the model on the test set\n",
    "rf_test_predictions = best_rf_model.predict(test_set.drop('is_ultra', axis=1))\n",
    "rf_test_accuracy = accuracy_score(test_set['is_ultra'], rf_test_predictions)\n",
    "\n",
    "print(\"Random Forest Test Accuracy:\", round(rf_test_accuracy, 3))"
   ]
  },
  {
   "cell_type": "code",
   "execution_count": 25,
   "metadata": {},
   "outputs": [
    {
     "data": {
      "image/png": "[encoded data removed]",
      "text/plain": [
       "<Figure size 640x480 with 2 Axes>"
      ]
     },
     "metadata": {},
     "output_type": "display_data"
    }
   ],
   "source": [
    "# Generate confusion matrix\n",
    "cm_test = confusion_matrix(test_set['is_ultra'], rf_test_predictions)\n",
    "\n",
    "# Display the confusion matrix\n",
    "disp = ConfusionMatrixDisplay(confusion_matrix=cm_test, display_labels=['Smart', 'Ultra'])\n",
    "disp.plot(cmap='Blues')\n",
    "plt.title(\"Confusion Matrix: Random Forest on Test Set\")\n",
    "plt.show()"
   ]
  },
  {
   "cell_type": "markdown",
   "metadata": {},
   "source": [
    "**Random Forest Test Accuracy:** 0.7760"
   ]
  },
  {
   "cell_type": "markdown",
   "metadata": {},
   "source": [
    "# Plan Comparison"
   ]
  },
  {
   "cell_type": "code",
   "execution_count": 29,
   "metadata": {
    "scrolled": true
   },
   "outputs": [
    {
     "data": {
      "text/html": [
       "<div>\n",
       "<style scoped>\n",
       "    .dataframe tbody tr th:only-of-type {\n",
       "        vertical-align: middle;\n",
       "    }\n",
       "\n",
       "    .dataframe tbody tr th {\n",
       "        vertical-align: top;\n",
       "    }\n",
       "\n",
       "    .dataframe thead tr th {\n",
       "        text-align: left;\n",
       "    }\n",
       "\n",
       "    .dataframe thead tr:last-of-type th {\n",
       "        text-align: right;\n",
       "    }\n",
       "</style>\n",
       "<table border=\"1\" class=\"dataframe\">\n",
       "  <thead>\n",
       "    <tr>\n",
       "      <th></th>\n",
       "      <th colspan=\"3\" halign=\"left\">calls</th>\n",
       "      <th colspan=\"3\" halign=\"left\">minutes</th>\n",
       "      <th colspan=\"3\" halign=\"left\">messages</th>\n",
       "      <th colspan=\"3\" halign=\"left\">mb_used</th>\n",
       "    </tr>\n",
       "    <tr>\n",
       "      <th></th>\n",
       "      <th>mean</th>\n",
       "      <th>median</th>\n",
       "      <th>std</th>\n",
       "      <th>mean</th>\n",
       "      <th>median</th>\n",
       "      <th>std</th>\n",
       "      <th>mean</th>\n",
       "      <th>median</th>\n",
       "      <th>std</th>\n",
       "      <th>mean</th>\n",
       "      <th>median</th>\n",
       "      <th>std</th>\n",
       "    </tr>\n",
       "    <tr>\n",
       "      <th>is_ultra</th>\n",
       "      <th></th>\n",
       "      <th></th>\n",
       "      <th></th>\n",
       "      <th></th>\n",
       "      <th></th>\n",
       "      <th></th>\n",
       "      <th></th>\n",
       "      <th></th>\n",
       "      <th></th>\n",
       "      <th></th>\n",
       "      <th></th>\n",
       "      <th></th>\n",
       "    </tr>\n",
       "  </thead>\n",
       "  <tbody>\n",
       "    <tr>\n",
       "      <th>0</th>\n",
       "      <td>58.463437</td>\n",
       "      <td>60.0</td>\n",
       "      <td>25.939858</td>\n",
       "      <td>405.942952</td>\n",
       "      <td>410.56</td>\n",
       "      <td>184.512604</td>\n",
       "      <td>33.384029</td>\n",
       "      <td>28.0</td>\n",
       "      <td>28.227876</td>\n",
       "      <td>16208.466949</td>\n",
       "      <td>16506.93</td>\n",
       "      <td>5870.498853</td>\n",
       "    </tr>\n",
       "    <tr>\n",
       "      <th>1</th>\n",
       "      <td>73.392893</td>\n",
       "      <td>74.0</td>\n",
       "      <td>43.916853</td>\n",
       "      <td>511.224569</td>\n",
       "      <td>502.55</td>\n",
       "      <td>308.031100</td>\n",
       "      <td>49.363452</td>\n",
       "      <td>38.0</td>\n",
       "      <td>47.804457</td>\n",
       "      <td>19468.823228</td>\n",
       "      <td>19308.01</td>\n",
       "      <td>10087.178654</td>\n",
       "    </tr>\n",
       "  </tbody>\n",
       "</table>\n",
       "</div>"
      ],
      "text/plain": [
       "              calls                       minutes                      \\\n",
       "               mean median        std        mean  median         std   \n",
       "is_ultra                                                                \n",
       "0         58.463437   60.0  25.939858  405.942952  410.56  184.512604   \n",
       "1         73.392893   74.0  43.916853  511.224569  502.55  308.031100   \n",
       "\n",
       "           messages                         mb_used                          \n",
       "               mean median        std          mean    median           std  \n",
       "is_ultra                                                                     \n",
       "0         33.384029   28.0  28.227876  16208.466949  16506.93   5870.498853  \n",
       "1         49.363452   38.0  47.804457  19468.823228  19308.01  10087.178654  "
      ]
     },
     "execution_count": 29,
     "metadata": {},
     "output_type": "execute_result"
    }
   ],
   "source": [
    "# Group data by the plan type\n",
    "plan_stats = df.groupby('is_ultra').agg({\n",
    "    'calls': ['mean', 'median', 'std'],\n",
    "    'minutes': ['mean', 'median', 'std'],\n",
    "    'messages': ['mean', 'median', 'std'],\n",
    "    'mb_used': ['mean', 'median', 'std']\n",
    "})\n",
    "\n",
    "plan_stats"
   ]
  },
  {
   "cell_type": "markdown",
   "metadata": {},
   "source": [
    "Differences between the Smart (is_ultra = 0) and Ultra (is_ultra = 1) plan users across multiple features.\n",
    "\n",
    "**Observations:**\n",
    "\n",
    "- Ultra plan users generally make more calls, use more minutes, send more messages, and consume more internet data (MB).\n",
    "- The standard deviation for Ultra users is generally higher, suggesting more variability in their usage patterns. Smart plan users are more consistent in their usage."
   ]
  },
  {
   "cell_type": "markdown",
   "metadata": {},
   "source": [
    "## Recommendation\n",
    "\n",
    "Established thresholds:\n",
    "\n",
    "- If minutes > 500, recommend Ultra.\n",
    "- If messages > 40, recommend Ultra.\n",
    "- If mb_used > 19000, recommend Ultra."
   ]
  },
  {
   "cell_type": "code",
   "execution_count": 27,
   "metadata": {},
   "outputs": [
    {
     "name": "stdout",
     "output_type": "stream",
     "text": [
      "Accuracy: 0.499\n"
     ]
    }
   ],
   "source": [
    "# Recommend a plan based on thresholds\n",
    "def recommend_plan(row):\n",
    "    if row['minutes'] > 500 or row['messages'] > 40 or row['mb_used'] > 19000:\n",
    "        return 'Ultra'\n",
    "    else:\n",
    "        return 'Smart'\n",
    "\n",
    "# Apply the function to each row in the dataset\n",
    "df['recommended_plan'] = df.apply(recommend_plan, axis=1)\n",
    "\n",
    "# Convert 'is_ultra' to actual plan names for comparison\n",
    "df['actual_plan'] = df['is_ultra'].apply(lambda x: 'Ultra' if x == 1 else 'Smart')\n",
    "\n",
    "# Compare recommendations with actual plans\n",
    "accuracy = (df['recommended_plan'] == df['actual_plan']).mean()\n",
    "print(\"Accuracy:\", round(accuracy, 3))"
   ]
  },
  {
   "cell_type": "code",
   "execution_count": 28,
   "metadata": {
    "scrolled": true
   },
   "outputs": [
    {
     "data": {
      "text/html": [
       "<div>\n",
       "<style scoped>\n",
       "    .dataframe tbody tr th:only-of-type {\n",
       "        vertical-align: middle;\n",
       "    }\n",
       "\n",
       "    .dataframe tbody tr th {\n",
       "        vertical-align: top;\n",
       "    }\n",
       "\n",
       "    .dataframe thead th {\n",
       "        text-align: right;\n",
       "    }\n",
       "</style>\n",
       "<table border=\"1\" class=\"dataframe\">\n",
       "  <thead>\n",
       "    <tr style=\"text-align: right;\">\n",
       "      <th></th>\n",
       "      <th>calls</th>\n",
       "      <th>minutes</th>\n",
       "      <th>messages</th>\n",
       "      <th>mb_used</th>\n",
       "      <th>is_ultra</th>\n",
       "      <th>recommended_plan</th>\n",
       "      <th>actual_plan</th>\n",
       "    </tr>\n",
       "  </thead>\n",
       "  <tbody>\n",
       "    <tr>\n",
       "      <th>0</th>\n",
       "      <td>40.0</td>\n",
       "      <td>311.90</td>\n",
       "      <td>83.0</td>\n",
       "      <td>19915.42</td>\n",
       "      <td>0</td>\n",
       "      <td>Ultra</td>\n",
       "      <td>Smart</td>\n",
       "    </tr>\n",
       "    <tr>\n",
       "      <th>1</th>\n",
       "      <td>85.0</td>\n",
       "      <td>516.75</td>\n",
       "      <td>56.0</td>\n",
       "      <td>22696.96</td>\n",
       "      <td>0</td>\n",
       "      <td>Ultra</td>\n",
       "      <td>Smart</td>\n",
       "    </tr>\n",
       "    <tr>\n",
       "      <th>2</th>\n",
       "      <td>77.0</td>\n",
       "      <td>467.66</td>\n",
       "      <td>86.0</td>\n",
       "      <td>21060.45</td>\n",
       "      <td>0</td>\n",
       "      <td>Ultra</td>\n",
       "      <td>Smart</td>\n",
       "    </tr>\n",
       "    <tr>\n",
       "      <th>3</th>\n",
       "      <td>106.0</td>\n",
       "      <td>745.53</td>\n",
       "      <td>81.0</td>\n",
       "      <td>8437.39</td>\n",
       "      <td>1</td>\n",
       "      <td>Ultra</td>\n",
       "      <td>Ultra</td>\n",
       "    </tr>\n",
       "    <tr>\n",
       "      <th>4</th>\n",
       "      <td>66.0</td>\n",
       "      <td>418.74</td>\n",
       "      <td>1.0</td>\n",
       "      <td>14502.75</td>\n",
       "      <td>0</td>\n",
       "      <td>Smart</td>\n",
       "      <td>Smart</td>\n",
       "    </tr>\n",
       "    <tr>\n",
       "      <th>5</th>\n",
       "      <td>58.0</td>\n",
       "      <td>344.56</td>\n",
       "      <td>21.0</td>\n",
       "      <td>15823.37</td>\n",
       "      <td>0</td>\n",
       "      <td>Smart</td>\n",
       "      <td>Smart</td>\n",
       "    </tr>\n",
       "    <tr>\n",
       "      <th>6</th>\n",
       "      <td>57.0</td>\n",
       "      <td>431.64</td>\n",
       "      <td>20.0</td>\n",
       "      <td>3738.90</td>\n",
       "      <td>1</td>\n",
       "      <td>Smart</td>\n",
       "      <td>Ultra</td>\n",
       "    </tr>\n",
       "    <tr>\n",
       "      <th>7</th>\n",
       "      <td>15.0</td>\n",
       "      <td>132.40</td>\n",
       "      <td>6.0</td>\n",
       "      <td>21911.60</td>\n",
       "      <td>0</td>\n",
       "      <td>Ultra</td>\n",
       "      <td>Smart</td>\n",
       "    </tr>\n",
       "    <tr>\n",
       "      <th>8</th>\n",
       "      <td>7.0</td>\n",
       "      <td>43.39</td>\n",
       "      <td>3.0</td>\n",
       "      <td>2538.67</td>\n",
       "      <td>1</td>\n",
       "      <td>Smart</td>\n",
       "      <td>Ultra</td>\n",
       "    </tr>\n",
       "    <tr>\n",
       "      <th>9</th>\n",
       "      <td>90.0</td>\n",
       "      <td>665.41</td>\n",
       "      <td>38.0</td>\n",
       "      <td>17358.61</td>\n",
       "      <td>0</td>\n",
       "      <td>Ultra</td>\n",
       "      <td>Smart</td>\n",
       "    </tr>\n",
       "    <tr>\n",
       "      <th>10</th>\n",
       "      <td>82.0</td>\n",
       "      <td>560.51</td>\n",
       "      <td>20.0</td>\n",
       "      <td>9619.53</td>\n",
       "      <td>1</td>\n",
       "      <td>Ultra</td>\n",
       "      <td>Ultra</td>\n",
       "    </tr>\n",
       "    <tr>\n",
       "      <th>11</th>\n",
       "      <td>45.0</td>\n",
       "      <td>344.32</td>\n",
       "      <td>13.0</td>\n",
       "      <td>19898.81</td>\n",
       "      <td>0</td>\n",
       "      <td>Ultra</td>\n",
       "      <td>Smart</td>\n",
       "    </tr>\n",
       "    <tr>\n",
       "      <th>12</th>\n",
       "      <td>51.0</td>\n",
       "      <td>437.13</td>\n",
       "      <td>61.0</td>\n",
       "      <td>21523.58</td>\n",
       "      <td>0</td>\n",
       "      <td>Ultra</td>\n",
       "      <td>Smart</td>\n",
       "    </tr>\n",
       "    <tr>\n",
       "      <th>13</th>\n",
       "      <td>56.0</td>\n",
       "      <td>433.07</td>\n",
       "      <td>16.0</td>\n",
       "      <td>16702.36</td>\n",
       "      <td>0</td>\n",
       "      <td>Smart</td>\n",
       "      <td>Smart</td>\n",
       "    </tr>\n",
       "    <tr>\n",
       "      <th>14</th>\n",
       "      <td>108.0</td>\n",
       "      <td>587.90</td>\n",
       "      <td>0.0</td>\n",
       "      <td>14406.50</td>\n",
       "      <td>1</td>\n",
       "      <td>Ultra</td>\n",
       "      <td>Ultra</td>\n",
       "    </tr>\n",
       "    <tr>\n",
       "      <th>15</th>\n",
       "      <td>6.0</td>\n",
       "      <td>22.13</td>\n",
       "      <td>0.0</td>\n",
       "      <td>2710.09</td>\n",
       "      <td>0</td>\n",
       "      <td>Smart</td>\n",
       "      <td>Smart</td>\n",
       "    </tr>\n",
       "    <tr>\n",
       "      <th>16</th>\n",
       "      <td>2.0</td>\n",
       "      <td>18.73</td>\n",
       "      <td>0.0</td>\n",
       "      <td>588.89</td>\n",
       "      <td>0</td>\n",
       "      <td>Smart</td>\n",
       "      <td>Smart</td>\n",
       "    </tr>\n",
       "    <tr>\n",
       "      <th>17</th>\n",
       "      <td>26.0</td>\n",
       "      <td>163.62</td>\n",
       "      <td>4.0</td>\n",
       "      <td>16870.34</td>\n",
       "      <td>0</td>\n",
       "      <td>Smart</td>\n",
       "      <td>Smart</td>\n",
       "    </tr>\n",
       "    <tr>\n",
       "      <th>18</th>\n",
       "      <td>79.0</td>\n",
       "      <td>532.62</td>\n",
       "      <td>90.0</td>\n",
       "      <td>19908.31</td>\n",
       "      <td>0</td>\n",
       "      <td>Ultra</td>\n",
       "      <td>Smart</td>\n",
       "    </tr>\n",
       "    <tr>\n",
       "      <th>19</th>\n",
       "      <td>49.0</td>\n",
       "      <td>341.67</td>\n",
       "      <td>81.0</td>\n",
       "      <td>11770.28</td>\n",
       "      <td>1</td>\n",
       "      <td>Ultra</td>\n",
       "      <td>Ultra</td>\n",
       "    </tr>\n",
       "    <tr>\n",
       "      <th>20</th>\n",
       "      <td>93.0</td>\n",
       "      <td>691.37</td>\n",
       "      <td>31.0</td>\n",
       "      <td>25950.28</td>\n",
       "      <td>1</td>\n",
       "      <td>Ultra</td>\n",
       "      <td>Ultra</td>\n",
       "    </tr>\n",
       "    <tr>\n",
       "      <th>21</th>\n",
       "      <td>56.0</td>\n",
       "      <td>411.46</td>\n",
       "      <td>97.0</td>\n",
       "      <td>15393.91</td>\n",
       "      <td>0</td>\n",
       "      <td>Ultra</td>\n",
       "      <td>Smart</td>\n",
       "    </tr>\n",
       "    <tr>\n",
       "      <th>22</th>\n",
       "      <td>48.0</td>\n",
       "      <td>351.60</td>\n",
       "      <td>66.0</td>\n",
       "      <td>16469.90</td>\n",
       "      <td>1</td>\n",
       "      <td>Ultra</td>\n",
       "      <td>Ultra</td>\n",
       "    </tr>\n",
       "    <tr>\n",
       "      <th>23</th>\n",
       "      <td>11.0</td>\n",
       "      <td>96.05</td>\n",
       "      <td>19.0</td>\n",
       "      <td>2305.74</td>\n",
       "      <td>0</td>\n",
       "      <td>Smart</td>\n",
       "      <td>Smart</td>\n",
       "    </tr>\n",
       "    <tr>\n",
       "      <th>24</th>\n",
       "      <td>56.0</td>\n",
       "      <td>360.30</td>\n",
       "      <td>30.0</td>\n",
       "      <td>13560.15</td>\n",
       "      <td>0</td>\n",
       "      <td>Smart</td>\n",
       "      <td>Smart</td>\n",
       "    </tr>\n",
       "    <tr>\n",
       "      <th>25</th>\n",
       "      <td>53.0</td>\n",
       "      <td>356.22</td>\n",
       "      <td>52.0</td>\n",
       "      <td>22471.77</td>\n",
       "      <td>0</td>\n",
       "      <td>Ultra</td>\n",
       "      <td>Smart</td>\n",
       "    </tr>\n",
       "    <tr>\n",
       "      <th>26</th>\n",
       "      <td>81.0</td>\n",
       "      <td>624.71</td>\n",
       "      <td>38.0</td>\n",
       "      <td>8644.66</td>\n",
       "      <td>1</td>\n",
       "      <td>Ultra</td>\n",
       "      <td>Ultra</td>\n",
       "    </tr>\n",
       "    <tr>\n",
       "      <th>27</th>\n",
       "      <td>154.0</td>\n",
       "      <td>1078.64</td>\n",
       "      <td>48.0</td>\n",
       "      <td>29335.15</td>\n",
       "      <td>1</td>\n",
       "      <td>Ultra</td>\n",
       "      <td>Ultra</td>\n",
       "    </tr>\n",
       "    <tr>\n",
       "      <th>28</th>\n",
       "      <td>37.0</td>\n",
       "      <td>286.68</td>\n",
       "      <td>44.0</td>\n",
       "      <td>19542.45</td>\n",
       "      <td>0</td>\n",
       "      <td>Ultra</td>\n",
       "      <td>Smart</td>\n",
       "    </tr>\n",
       "    <tr>\n",
       "      <th>29</th>\n",
       "      <td>50.0</td>\n",
       "      <td>358.01</td>\n",
       "      <td>44.0</td>\n",
       "      <td>9998.83</td>\n",
       "      <td>1</td>\n",
       "      <td>Ultra</td>\n",
       "      <td>Ultra</td>\n",
       "    </tr>\n",
       "  </tbody>\n",
       "</table>\n",
       "</div>"
      ],
      "text/plain": [
       "    calls  minutes  messages   mb_used  is_ultra recommended_plan actual_plan\n",
       "0    40.0   311.90      83.0  19915.42         0            Ultra       Smart\n",
       "1    85.0   516.75      56.0  22696.96         0            Ultra       Smart\n",
       "2    77.0   467.66      86.0  21060.45         0            Ultra       Smart\n",
       "3   106.0   745.53      81.0   8437.39         1            Ultra       Ultra\n",
       "4    66.0   418.74       1.0  14502.75         0            Smart       Smart\n",
       "5    58.0   344.56      21.0  15823.37         0            Smart       Smart\n",
       "6    57.0   431.64      20.0   3738.90         1            Smart       Ultra\n",
       "7    15.0   132.40       6.0  21911.60         0            Ultra       Smart\n",
       "8     7.0    43.39       3.0   2538.67         1            Smart       Ultra\n",
       "9    90.0   665.41      38.0  17358.61         0            Ultra       Smart\n",
       "10   82.0   560.51      20.0   9619.53         1            Ultra       Ultra\n",
       "11   45.0   344.32      13.0  19898.81         0            Ultra       Smart\n",
       "12   51.0   437.13      61.0  21523.58         0            Ultra       Smart\n",
       "13   56.0   433.07      16.0  16702.36         0            Smart       Smart\n",
       "14  108.0   587.90       0.0  14406.50         1            Ultra       Ultra\n",
       "15    6.0    22.13       0.0   2710.09         0            Smart       Smart\n",
       "16    2.0    18.73       0.0    588.89         0            Smart       Smart\n",
       "17   26.0   163.62       4.0  16870.34         0            Smart       Smart\n",
       "18   79.0   532.62      90.0  19908.31         0            Ultra       Smart\n",
       "19   49.0   341.67      81.0  11770.28         1            Ultra       Ultra\n",
       "20   93.0   691.37      31.0  25950.28         1            Ultra       Ultra\n",
       "21   56.0   411.46      97.0  15393.91         0            Ultra       Smart\n",
       "22   48.0   351.60      66.0  16469.90         1            Ultra       Ultra\n",
       "23   11.0    96.05      19.0   2305.74         0            Smart       Smart\n",
       "24   56.0   360.30      30.0  13560.15         0            Smart       Smart\n",
       "25   53.0   356.22      52.0  22471.77         0            Ultra       Smart\n",
       "26   81.0   624.71      38.0   8644.66         1            Ultra       Ultra\n",
       "27  154.0  1078.64      48.0  29335.15         1            Ultra       Ultra\n",
       "28   37.0   286.68      44.0  19542.45         0            Ultra       Smart\n",
       "29   50.0   358.01      44.0   9998.83         1            Ultra       Ultra"
      ]
     },
     "execution_count": 28,
     "metadata": {},
     "output_type": "execute_result"
    }
   ],
   "source": [
    "df.head(30)"
   ]
  },
  {
   "cell_type": "markdown",
   "metadata": {},
   "source": []
  },
  {
   "cell_type": "markdown",
   "metadata": {},
   "source": [
    "# Conclusion\n",
    "\n",
    "In this project, we aimed to develop a machine learning model to recommend one of Megaline's newer plans (Smart or Ultra) based on subscriber behavior. After conducting an extensive analysis of the dataset containing user behavior metrics, we split the data into training, validation, and test sets.\n",
    "\n",
    "We evaluated three different models: Decision Tree, Random Forest, and Logistic Regression. \n",
    "\n",
    "**The key findings from our analysis are as follows:** \n",
    "\n",
    "\n",
    "**Logistic Regression:**\n",
    "\n",
    "The Logistic Regression model showed a training accuracy of approximately 71.99% and a validation accuracy of 71.38%. This model did not meet the desired threshold of 75% accuracy and suggested that more complex models may be more appropriate for this dataset.\n",
    "\n",
    "\n",
    "**Decision Tree:**\n",
    "\n",
    "Achieved a training accuracy of approximately 99.90% and a validation accuracy of 80.40%. The model appears to fit well on the training data but shows signs of overfitting.\n",
    "\n",
    "**Random Forest:**\n",
    "\n",
    "Also achieved a training accuracy of 99.90% and demonstrated a validation accuracy of approximately 82.00%, which is a significant improvement over the Decision Tree model. This model appears to generalize better to unseen data compared to the Decision Tree.\n",
    "\n",
    "\n",
    "**Statistical Analysis:** Then we tested the actual data by generating some ideas about the key differences of Smart and Ultra plan users and using this information to generate thresholds. The accuracy of this model using statistical analysis is 50%. This model did not meet the desired threshold and confirms our suggestion that more complex models may be more appropriate for this dataset.\n",
    "\n",
    "\n",
    "In summary, the **Random Forest model** was identified as the best-performing model with the highest validation accuracy. \n",
    "\n",
    "Random forests models are powerful because they can identify complex interactions and relationships in the data that may not be evident from a straightforward analysis. \n"
   ]
  },
  {
   "cell_type": "markdown",
   "metadata": {},
   "source": [
    "# Next Steps\n",
    "\n",
    "- Add cross-validation to make results more robust\n",
    "- Test additional features (e.g., user tenure, payment data)\n",
    "\n"
   ]
  },
  {
   "cell_type": "code",
   "execution_count": null,
   "metadata": {},
   "outputs": [],
   "source": []
  }
 ],
 "metadata": {
  "ExecuteTimeLog": [
   {
    "duration": 735,
    "start_time": "2024-09-28T07:07:32.947Z"
   },
   {
    "duration": 12,
    "start_time": "2024-09-28T07:07:33.685Z"
   },
   {
    "duration": 6,
    "start_time": "2024-09-28T07:07:33.699Z"
   },
   {
    "duration": 6,
    "start_time": "2024-09-28T07:07:33.707Z"
   },
   {
    "duration": 7,
    "start_time": "2024-09-28T07:07:33.716Z"
   },
   {
    "duration": 8,
    "start_time": "2024-09-28T07:07:33.724Z"
   },
   {
    "duration": 41,
    "start_time": "2024-09-28T07:07:33.734Z"
   },
   {
    "duration": 5,
    "start_time": "2024-09-28T07:07:33.777Z"
   },
   {
    "duration": 5,
    "start_time": "2024-09-28T07:07:33.783Z"
   },
   {
    "duration": 3,
    "start_time": "2024-09-28T07:07:33.790Z"
   },
   {
    "duration": 2,
    "start_time": "2024-09-28T07:07:33.795Z"
   },
   {
    "duration": 4,
    "start_time": "2024-09-28T07:07:33.799Z"
   },
   {
    "duration": 27,
    "start_time": "2024-09-28T07:07:33.805Z"
   },
   {
    "duration": 4,
    "start_time": "2024-09-28T07:07:33.872Z"
   },
   {
    "duration": 2,
    "start_time": "2024-09-28T07:07:33.878Z"
   },
   {
    "duration": 49,
    "start_time": "2024-09-28T07:07:33.882Z"
   },
   {
    "duration": 2,
    "start_time": "2024-09-28T07:07:33.933Z"
   },
   {
    "duration": 61,
    "start_time": "2024-09-28T07:07:33.936Z"
   },
   {
    "duration": 3,
    "start_time": "2024-09-28T07:07:33.999Z"
   },
   {
    "duration": 30,
    "start_time": "2024-09-28T07:07:34.004Z"
   },
   {
    "duration": 9,
    "start_time": "2024-09-28T07:07:34.036Z"
   },
   {
    "duration": 23,
    "start_time": "2024-09-28T07:07:34.047Z"
   },
   {
    "duration": 8,
    "start_time": "2024-09-28T07:07:34.072Z"
   },
   {
    "duration": 10,
    "start_time": "2024-09-28T07:07:34.082Z"
   },
   {
    "duration": 1161,
    "start_time": "2024-09-28T07:07:34.093Z"
   },
   {
    "duration": 180,
    "start_time": "2024-09-28T07:07:35.255Z"
   },
   {
    "duration": 3,
    "start_time": "2024-09-28T07:07:35.437Z"
   },
   {
    "duration": 14,
    "start_time": "2024-09-28T07:07:35.441Z"
   },
   {
    "duration": 2127,
    "start_time": "2024-09-28T07:07:35.471Z"
   },
   {
    "duration": 141,
    "start_time": "2024-09-28T07:07:37.600Z"
   },
   {
    "duration": 138,
    "start_time": "2024-09-28T07:07:37.742Z"
   },
   {
    "duration": 12,
    "start_time": "2024-09-28T07:07:37.882Z"
   },
   {
    "duration": 16,
    "start_time": "2024-09-28T07:07:37.897Z"
   },
   {
    "duration": 33,
    "start_time": "2024-09-28T07:07:37.915Z"
   },
   {
    "duration": 29,
    "start_time": "2024-09-28T07:07:37.950Z"
   }
  ],
  "kernelspec": {
   "display_name": "Python 3 (ipykernel)",
   "language": "python",
   "name": "python3"
  },
  "language_info": {
   "codemirror_mode": {
    "name": "ipython",
    "version": 3
   },
   "file_extension": ".py",
   "mimetype": "text/x-python",
   "name": "python",
   "nbconvert_exporter": "python",
   "pygments_lexer": "ipython3",
   "version": "3.11.8"
  },
  "toc": {
   "base_numbering": 1,
   "nav_menu": {
    "height": "313px",
    "width": "250px"
   },
   "number_sections": true,
   "sideBar": true,
   "skip_h1_title": false,
   "title_cell": "Table of Contents",
   "title_sidebar": "Contents",
   "toc_cell": false,
   "toc_position": {
    "height": "calc(100% - 180px)",
    "left": "10px",
    "top": "150px",
    "width": "263px"
   },
   "toc_section_display": true,
   "toc_window_display": true
  }
 },
 "nbformat": 4,
 "nbformat_minor": 2
}
